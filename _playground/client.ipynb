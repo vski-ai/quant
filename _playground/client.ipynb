{
 "cells": [
  {
   "cell_type": "code",
   "execution_count": null,
   "id": "83993c00",
   "metadata": {},
   "outputs": [
    {
     "ename": "TypeError",
     "evalue": "Module not found \"file:///home/anton/Documents/@vski/quant/client/core/FetchHttpRequest\". Maybe add a '.ts' extension or run with --sloppy-imports\n    at \u001b[0m\u001b[36mfile:///home/anton/Documents/@vski/quant/client/QuantApi.ts\u001b[0m:\u001b[0m\u001b[33m7\u001b[0m:\u001b[0m\u001b[33m34\u001b[0m",
     "output_type": "error",
     "traceback": [
      "Stack trace:",
      "TypeError: Module not found \"file:///home/anton/Documents/@vski/quant/client/core/FetchHttpRequest\". Maybe add a '.ts' extension or run with --sloppy-imports",
      "    at \u001b[0m\u001b[36mfile:///home/anton/Documents/@vski/quant/client/QuantApi.ts\u001b[0m:\u001b[0m\u001b[33m7\u001b[0m:\u001b[0m\u001b[33m34\u001b[0m",
      "    at async <anonymous>:1:43"
     ]
    }
   ],
   "source": [
    "import { client } from \"@/http/client/client.gen.ts\";\n"
   ]
  }
 ],
 "metadata": {
  "kernelspec": {
   "display_name": "Deno",
   "language": "typescript",
   "name": "deno"
  },
  "language_info": {
   "codemirror_mode": "typescript",
   "file_extension": ".ts",
   "mimetype": "text/x.typescript",
   "name": "typescript",
   "nbconvert_exporter": "script",
   "pygments_lexer": "typescript",
   "version": "5.9.2"
  }
 },
 "nbformat": 4,
 "nbformat_minor": 5
}
