{
 "cells": [
  {
   "cell_type": "code",
   "execution_count": 2,
   "id": "83993c00",
   "metadata": {},
   "outputs": [
    {
     "name": "stdout",
     "output_type": "stream",
     "text": [
      "┌───────┬───┐\n",
      "│ (idx) │ 0 │\n",
      "├───────┼───┤\n",
      "│ a     │ 1 │\n",
      "│ b     │ 2 │\n",
      "└───────┴───┘\n"
     ]
    }
   ],
   "source": [
    "import { configure } from \"@/http/client.ts\";\n",
    "\n",
    "configure({\n",
    "  baseUrl: \"http://localhost:8000\",\n",
    "  masterKey: \"test\",\n",
    "});\n",
    "\n",
    "console.table({\n",
    "  a: [1],\n",
    "  b: [2],\n",
    "});"
   ]
  }
 ],
 "metadata": {
  "kernelspec": {
   "display_name": "Deno",
   "language": "typescript",
   "name": "deno"
  },
  "language_info": {
   "codemirror_mode": "typescript",
   "file_extension": ".ts",
   "mimetype": "text/x.typescript",
   "name": "typescript",
   "nbconvert_exporter": "script",
   "pygments_lexer": "typescript",
   "version": "5.9.2"
  }
 },
 "nbformat": 4,
 "nbformat_minor": 5
}
